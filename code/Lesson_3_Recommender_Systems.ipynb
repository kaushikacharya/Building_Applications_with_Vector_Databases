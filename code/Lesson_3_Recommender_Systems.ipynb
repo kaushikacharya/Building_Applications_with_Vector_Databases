{
 "cells": [
  {
   "cell_type": "markdown",
   "metadata": {},
   "source": [
    "# Lesson 3 - Recommender Systems"
   ]
  },
  {
   "cell_type": "markdown",
   "metadata": {},
   "source": [
    "### Import the required packages"
   ]
  },
  {
   "cell_type": "code",
   "execution_count": 1,
   "metadata": {},
   "outputs": [],
   "source": [
    "import warnings\n",
    "\n",
    "warnings.filterwarnings(\"ignore\")"
   ]
  },
  {
   "cell_type": "code",
   "execution_count": 2,
   "metadata": {},
   "outputs": [],
   "source": [
    "from langchain.text_splitter import RecursiveCharacterTextSplitter\n",
    "from openai import OpenAI\n",
    "from pinecone import Pinecone, ServerlessSpec\n",
    "from tqdm.auto import tqdm, trange\n",
    "\n",
    "import os\n",
    "import pandas as pd\n",
    "import time"
   ]
  },
  {
   "cell_type": "code",
   "execution_count": 3,
   "metadata": {},
   "outputs": [],
   "source": [
    "from DLAIUtils import Utils"
   ]
  },
  {
   "cell_type": "code",
   "execution_count": 4,
   "metadata": {},
   "outputs": [],
   "source": [
    "utils = Utils()\n",
    "\n",
    "PINECONE_API_KEY = utils.get_pinecone_api_key()\n",
    "OPENAI_API_KEY = utils.get_openai_api_key()"
   ]
  },
  {
   "cell_type": "markdown",
   "metadata": {},
   "source": [
    "### Load the Dataset\n",
    "\n",
    "**Note:** To access the dataset outside of this course, just copy the following two lines of code and run it (remember to uncomment them first before executing):"
   ]
  },
  {
   "cell_type": "code",
   "execution_count": 5,
   "metadata": {},
   "outputs": [
    {
     "name": "stdout",
     "output_type": "stream",
     "text": [
      "./data/all-the-news 100%[===================>] 166.04M  11.4MB/s    in 18s     \n",
      "Archive:  ./data/all-the-news-3.zip\n",
      "  inflating: ./data/all-the-news-3.csv  \n"
     ]
    }
   ],
   "source": [
    "!mkdir -p ./data && wget -q --show-progress -O ./data/all-the-news-3.zip \"https://www.dropbox.com/scl/fi/wruzj2bwyg743d0jzd7ku/all-the-news-3.zip?rlkey=rgwtwpeznbdadpv3f01sznwxa&dl=1\"\n",
    "\n",
    "!unzip ./data/all-the-news-3.zip -d ./data/"
   ]
  },
  {
   "cell_type": "markdown",
   "metadata": {},
   "source": [
    "Read the header of the csv file"
   ]
  },
  {
   "cell_type": "code",
   "execution_count": 6,
   "metadata": {},
   "outputs": [
    {
     "name": "stdout",
     "output_type": "stream",
     "text": [
      "date,year,month,day,author,title,article,url,section,publication\n",
      "\n"
     ]
    }
   ],
   "source": [
    "with open(\"./data/all-the-news-3.csv\", mode=\"r\") as f:\n",
    "    header = f.readline()\n",
    "    print(header)"
   ]
  },
  {
   "cell_type": "code",
   "execution_count": 7,
   "metadata": {},
   "outputs": [
    {
     "data": {
      "text/html": [
       "<div>\n",
       "<style scoped>\n",
       "    .dataframe tbody tr th:only-of-type {\n",
       "        vertical-align: middle;\n",
       "    }\n",
       "\n",
       "    .dataframe tbody tr th {\n",
       "        vertical-align: top;\n",
       "    }\n",
       "\n",
       "    .dataframe thead th {\n",
       "        text-align: right;\n",
       "    }\n",
       "</style>\n",
       "<table border=\"1\" class=\"dataframe\">\n",
       "  <thead>\n",
       "    <tr style=\"text-align: right;\">\n",
       "      <th></th>\n",
       "      <th>date</th>\n",
       "      <th>year</th>\n",
       "      <th>month</th>\n",
       "      <th>day</th>\n",
       "      <th>author</th>\n",
       "      <th>title</th>\n",
       "      <th>article</th>\n",
       "      <th>url</th>\n",
       "      <th>section</th>\n",
       "      <th>publication</th>\n",
       "    </tr>\n",
       "  </thead>\n",
       "  <tbody>\n",
       "    <tr>\n",
       "      <th>0</th>\n",
       "      <td>2016-12-09 18:31:00</td>\n",
       "      <td>2016</td>\n",
       "      <td>12.0</td>\n",
       "      <td>9</td>\n",
       "      <td>Lee Drutman</td>\n",
       "      <td>We should take concerns about the health of li...</td>\n",
       "      <td>This post is part of Polyarchy, an independent...</td>\n",
       "      <td>https://www.vox.com/polyarchy/2016/12/9/138983...</td>\n",
       "      <td>NaN</td>\n",
       "      <td>Vox</td>\n",
       "    </tr>\n",
       "    <tr>\n",
       "      <th>1</th>\n",
       "      <td>2016-10-07 21:26:46</td>\n",
       "      <td>2016</td>\n",
       "      <td>10.0</td>\n",
       "      <td>7</td>\n",
       "      <td>Scott Davis</td>\n",
       "      <td>Colts GM Ryan Grigson says Andrew Luck's contr...</td>\n",
       "      <td>The Indianapolis Colts made Andrew Luck the h...</td>\n",
       "      <td>https://www.businessinsider.com/colts-gm-ryan-...</td>\n",
       "      <td>NaN</td>\n",
       "      <td>Business Insider</td>\n",
       "    </tr>\n",
       "    <tr>\n",
       "      <th>2</th>\n",
       "      <td>2018-01-26 00:00:00</td>\n",
       "      <td>2018</td>\n",
       "      <td>1.0</td>\n",
       "      <td>26</td>\n",
       "      <td>NaN</td>\n",
       "      <td>Trump denies report he ordered Mueller fired</td>\n",
       "      <td>DAVOS, Switzerland (Reuters) - U.S. President ...</td>\n",
       "      <td>https://www.reuters.com/article/us-davos-meeti...</td>\n",
       "      <td>Davos</td>\n",
       "      <td>Reuters</td>\n",
       "    </tr>\n",
       "    <tr>\n",
       "      <th>3</th>\n",
       "      <td>2019-06-27 00:00:00</td>\n",
       "      <td>2019</td>\n",
       "      <td>6.0</td>\n",
       "      <td>27</td>\n",
       "      <td>NaN</td>\n",
       "      <td>France's Sarkozy reveals his 'Passions' but in...</td>\n",
       "      <td>PARIS (Reuters) - Former French president Nico...</td>\n",
       "      <td>https://www.reuters.com/article/france-politic...</td>\n",
       "      <td>World News</td>\n",
       "      <td>Reuters</td>\n",
       "    </tr>\n",
       "    <tr>\n",
       "      <th>4</th>\n",
       "      <td>2016-01-27 00:00:00</td>\n",
       "      <td>2016</td>\n",
       "      <td>1.0</td>\n",
       "      <td>27</td>\n",
       "      <td>NaN</td>\n",
       "      <td>Paris Hilton: Woman In Black For Uncle Monty's...</td>\n",
       "      <td>Paris Hilton arrived at LAX Wednesday dressed ...</td>\n",
       "      <td>https://www.tmz.com/2016/01/27/paris-hilton-mo...</td>\n",
       "      <td>NaN</td>\n",
       "      <td>TMZ</td>\n",
       "    </tr>\n",
       "  </tbody>\n",
       "</table>\n",
       "</div>"
      ],
      "text/plain": [
       "                  date  year  month  day       author  \\\n",
       "0  2016-12-09 18:31:00  2016   12.0    9  Lee Drutman   \n",
       "1  2016-10-07 21:26:46  2016   10.0    7  Scott Davis   \n",
       "2  2018-01-26 00:00:00  2018    1.0   26          NaN   \n",
       "3  2019-06-27 00:00:00  2019    6.0   27          NaN   \n",
       "4  2016-01-27 00:00:00  2016    1.0   27          NaN   \n",
       "\n",
       "                                               title  \\\n",
       "0  We should take concerns about the health of li...   \n",
       "1  Colts GM Ryan Grigson says Andrew Luck's contr...   \n",
       "2       Trump denies report he ordered Mueller fired   \n",
       "3  France's Sarkozy reveals his 'Passions' but in...   \n",
       "4  Paris Hilton: Woman In Black For Uncle Monty's...   \n",
       "\n",
       "                                             article  \\\n",
       "0  This post is part of Polyarchy, an independent...   \n",
       "1   The Indianapolis Colts made Andrew Luck the h...   \n",
       "2  DAVOS, Switzerland (Reuters) - U.S. President ...   \n",
       "3  PARIS (Reuters) - Former French president Nico...   \n",
       "4  Paris Hilton arrived at LAX Wednesday dressed ...   \n",
       "\n",
       "                                                 url     section  \\\n",
       "0  https://www.vox.com/polyarchy/2016/12/9/138983...         NaN   \n",
       "1  https://www.businessinsider.com/colts-gm-ryan-...         NaN   \n",
       "2  https://www.reuters.com/article/us-davos-meeti...       Davos   \n",
       "3  https://www.reuters.com/article/france-politic...  World News   \n",
       "4  https://www.tmz.com/2016/01/27/paris-hilton-mo...         NaN   \n",
       "\n",
       "        publication  \n",
       "0               Vox  \n",
       "1  Business Insider  \n",
       "2           Reuters  \n",
       "3           Reuters  \n",
       "4               TMZ  "
      ]
     },
     "execution_count": 7,
     "metadata": {},
     "output_type": "execute_result"
    }
   ],
   "source": [
    "df = pd.read_csv(filepath_or_buffer=\"./data/all-the-news-3.csv\", nrows=99)\n",
    "df.head()"
   ]
  },
  {
   "cell_type": "markdown",
   "metadata": {},
   "source": [
    "### Setup Pinecone"
   ]
  },
  {
   "cell_type": "code",
   "execution_count": 8,
   "metadata": {},
   "outputs": [],
   "source": [
    "openai_client = OpenAI(api_key=OPENAI_API_KEY)\n",
    "pinecone = Pinecone(api_key=PINECONE_API_KEY)\n",
    "\n",
    "INDEX_NAME = utils.create_dlai_index_name(index_name=\"dl-ai\")\n",
    "\n",
    "if INDEX_NAME in [index.name for index in pinecone.list_indexes()]:\n",
    "    pinecone.delete_index(name=INDEX_NAME)\n",
    "\n",
    "pinecone.create_index(\n",
    "    name=INDEX_NAME,\n",
    "    dimension=1536,\n",
    "    spec=ServerlessSpec(cloud=\"aws\", region=\"us-west-2\"),\n",
    "    metric=\"cosine\"\n",
    ")\n",
    "\n",
    "index = pinecone.Index(name=INDEX_NAME)"
   ]
  },
  {
   "cell_type": "markdown",
   "metadata": {},
   "source": [
    "### 1. Create Embeddings of the News Titles"
   ]
  },
  {
   "cell_type": "code",
   "execution_count": 9,
   "metadata": {},
   "outputs": [],
   "source": [
    "def get_embeddings(articles, model=\"text-embedding-ada-002\"):\n",
    "    return openai_client.embeddings.create(input=articles, model=model)"
   ]
  },
  {
   "cell_type": "code",
   "execution_count": 11,
   "metadata": {},
   "outputs": [
    {
     "name": "stderr",
     "output_type": "stream",
     "text": [
      "100%|██████████| 10000/10000 [03:05<00:00, 45.65it/s]"
     ]
    },
    {
     "name": "stderr",
     "output_type": "stream",
     "text": [
      "100%|██████████| 10000/10000 [15:31<00:00, 45.65it/s]"
     ]
    }
   ],
   "source": [
    "CHUNK_SIZE = 400\n",
    "TOTAL_ROWS = 10000\n",
    "\n",
    "progress_bar = tqdm(total=TOTAL_ROWS)\n",
    "chunks = pd.read_csv(filepath_or_buffer=\"./data/all-the-news-3.csv\", chunksize=CHUNK_SIZE, nrows=TOTAL_ROWS)\n",
    "\n",
    "chunk_num = 0\n",
    "for chunk in chunks:\n",
    "    titles = chunk[\"title\"].tolist()\n",
    "    embeddings = get_embeddings(articles=titles)\n",
    "    prepped = [{\"id\": str(chunk_num*CHUNK_SIZE+i), \"values\": embeddings.data[i].embedding, \"metadata\": {\"title\": titles[i]}} for i in range(len(titles))]\n",
    "    chunk_num += 1\n",
    "\n",
    "    if len(prepped) > 200:\n",
    "        index.upsert(vectors=prepped)\n",
    "        prepped = []\n",
    "    \n",
    "    progress_bar.update(len(chunk))\n"
   ]
  },
  {
   "cell_type": "code",
   "execution_count": 12,
   "metadata": {},
   "outputs": [
    {
     "data": {
      "text/plain": [
       "{'dimension': 1536,\n",
       " 'index_fullness': 0.0,\n",
       " 'namespaces': {'': {'vector_count': 10000}},\n",
       " 'total_vector_count': 10000}"
      ]
     },
     "execution_count": 12,
     "metadata": {},
     "output_type": "execute_result"
    }
   ],
   "source": [
    "index.describe_index_stats()"
   ]
  },
  {
   "cell_type": "markdown",
   "metadata": {},
   "source": [
    "### Build the Recommender System"
   ]
  },
  {
   "cell_type": "code",
   "execution_count": 13,
   "metadata": {},
   "outputs": [],
   "source": [
    "def get_recommendations(pinecone_index, search_term, top_k=10):\n",
    "    embed = get_embeddings(articles=[search_term]).data[0].embedding\n",
    "    res = pinecone_index.query(vector=embed, top_k=top_k, include_metadata=True)\n",
    "\n",
    "    return res"
   ]
  },
  {
   "cell_type": "code",
   "execution_count": 16,
   "metadata": {},
   "outputs": [
    {
     "name": "stdout",
     "output_type": "stream",
     "text": [
      "0.849979818: Barack Obama just stepped off the sidelines to defend Obamacare\n",
      "0.849476159: Obama: if you were fine with big government until it served black people, rethink your biases\n",
      "0.84846884: “Our democracy is at stake”: Obama delivers his first post-presidency campaign speech\n",
      "0.848202527: President Obama has a new plan to fight the opioid epidemic\n",
      "0.844891369: Watch President Obama dance the tango in Argentina\n",
      "0.844519079: Obama meets with national security team on Syria, Islamic State\n",
      "0.844460905: President Obama: Michelle & I Are Gonna Be Renters\n",
      "0.844327092: Vox Sentences: Obama got a warmer welcome in Hiroshima than the Japanese prime minister\n",
      "0.842268705: Barack Obama in talks to create shows for Netflix: New York Times\n",
      "0.841716468: Clinton, Obama pledge unity behind Trump presidency\n"
     ]
    }
   ],
   "source": [
    "reco = get_recommendations(pinecone_index=index, search_term=\"obama\")\n",
    "\n",
    "for r in reco.matches:\n",
    "    print(f'{r.score}: {r.metadata[\"title\"]}')"
   ]
  },
  {
   "cell_type": "markdown",
   "metadata": {},
   "source": [
    "### 2. Create Embeddings of All News Content"
   ]
  },
  {
   "cell_type": "code",
   "execution_count": 17,
   "metadata": {},
   "outputs": [],
   "source": [
    "if INDEX_NAME in [index.name for index in pinecone.list_indexes()]:\n",
    "    pinecone.delete_index(name=INDEX_NAME)\n",
    "\n",
    "pinecone.create_index(\n",
    "    name=INDEX_NAME,\n",
    "    dimension=1536,\n",
    "    spec=ServerlessSpec(cloud=\"aws\", region=\"us-west-2\"),\n",
    "    metric=\"cosine\"\n",
    ")\n",
    "\n",
    "articles_index = pinecone.Index(name=INDEX_NAME)"
   ]
  },
  {
   "cell_type": "code",
   "execution_count": 18,
   "metadata": {},
   "outputs": [],
   "source": [
    "def embed(embeddings, title, prepped, embed_num):\n",
    "    for embedding in embeddings.data:\n",
    "        prepped.append({\"id\": str(embed_num), \"values\": embedding.embedding, \"metadata\": {\"title\": title}})\n",
    "        embed_num += 1\n",
    "\n",
    "        if len(prepped) > 100:\n",
    "            articles_index.upsert(vectors=prepped)\n",
    "            prepped.clear()\n",
    "    \n",
    "    return embed_num"
   ]
  },
  {
   "cell_type": "markdown",
   "metadata": {},
   "source": [
    "<p style=\"background-color:#fff1d7; padding:15px; \"> <b>(Note: <code>news_data_rows_num = 100</code>):</b> In this lab, we've initially set <code>news_data_rows_num</code> to 100 for speedier results, allowing you to observe the outcomes faster. Once you've done an initial run, consider increasing this value to 200, 400, 700, and 1000. You'll likely notice better and more relevant results.</p>"
   ]
  },
  {
   "cell_type": "code",
   "execution_count": 19,
   "metadata": {},
   "outputs": [
    {
     "name": "stdout",
     "output_type": "stream",
     "text": [
      "...................................................................................................."
     ]
    }
   ],
   "source": [
    "news_data_rows_num = 100\n",
    "\n",
    "embed_num = 0 # Keep track of embedding number for \"id\"\n",
    "text_splitter = RecursiveCharacterTextSplitter(chunk_size=400, chunk_overlap=20) # How to chunk each article\n",
    "\n",
    "df = pd.read_csv(filepath_or_buffer=\"./data/all-the-news-3.csv\", nrows=news_data_rows_num)\n",
    "articles_list = df[\"article\"].tolist()\n",
    "titles_list = df[\"title\"].tolist()\n",
    "\n",
    "prepped = []\n",
    "for i in range(0, len(articles_list)):\n",
    "    print(\".\",end=\"\")\n",
    "    art = articles_list[i]\n",
    "    title = titles_list[i]\n",
    "\n",
    "    if art is not None and isinstance(art, str):\n",
    "        texts = text_splitter.split_text(art)\n",
    "        embeddings = get_embeddings(articles=texts)\n",
    "        embed_num = embed(embeddings=embeddings, title=title, prepped=prepped, embed_num=embed_num)\n"
   ]
  },
  {
   "cell_type": "code",
   "execution_count": 20,
   "metadata": {},
   "outputs": [
    {
     "data": {
      "text/plain": [
       "{'dimension': 1536,\n",
       " 'index_fullness': 0.0,\n",
       " 'namespaces': {'': {'vector_count': 1010}},\n",
       " 'total_vector_count': 1010}"
      ]
     },
     "execution_count": 20,
     "metadata": {},
     "output_type": "execute_result"
    }
   ],
   "source": [
    "articles_index.describe_index_stats()"
   ]
  },
  {
   "cell_type": "markdown",
   "metadata": {},
   "source": [
    "### Build the Recommender System"
   ]
  },
  {
   "cell_type": "code",
   "execution_count": 21,
   "metadata": {},
   "outputs": [
    {
     "name": "stdout",
     "output_type": "stream",
     "text": [
      "0.821058929: Why Obama is vetting Nevada's Republican governor for the Supreme Court\n",
      "0.818831205: U.S. lawmakers ask for disclosure of number of Americans under surveillance\n",
      "0.812379181: NYPD Honcho Insulted by 'Hamilton' Star Lin-Manuel Miranda Celebrating Obama's Controversial Prisoner Release\n",
      "0.806931: Why Jews Are Getting Themselves Arrested at ICE Centers Around the Country\n",
      "0.806235075: Trump keeping options open as Republican feud rages\n",
      "0.801288128: Michael Bloomberg Is Seriously Considering a Presidential Run\n",
      "0.800196826: The most revealing Republican ad of the election is an attack ad against Tim Kaine\n",
      "0.798193276: Exclusive: Trump considering fracking mogul Harold Hamm as energy secretary - sources\n",
      "0.797721624: Trump tells anti-abortion marchers he will support them\n",
      "0.797481894: The government official in charge of ethics just harshly condemned Trump’s plan\n",
      "0.79356277: Exclusive: China shuns U.S. request for talks on airline website dispute over Taiwan\n",
      "0.792402804: “Elizabeth Warren called me!” is turning into a Twitter meme\n",
      "0.789340138: Nancy Pelosi says a Clinton landslide could put the House in play. The math backs her up.\n",
      "0.787392557: Republicans totally outsmarted the mainstream media on Obamacare repeal\n",
      "0.784112453: Peter Thiel vs. the FDA\n",
      "0.782298386: We should take concerns about the health of liberal democracy seriously\n",
      "0.782173157: It's 2018, and these white supremacists are running for office\n",
      "0.782171249: France's Sarkozy reveals his 'Passions' but insists no come-back on cards\n",
      "0.781905532: China is dismissing unfavorable media reports as fake because that's what Trump does\n",
      "0.780524671: How the Clinton campaign is making #ThatMexicanThing a thing, explained\n",
      "0.779275417: How one woman used fashion to reclaim her Muslim American identity\n",
      "0.778392255: Mass protests have erupted in Poland \n",
      "0.778365135: IEA concerned about Middle East tensions, stands ready to act\n",
      "0.776002049: How love and marriage are changing, according to 63,000 New York Times wedding announcements\n"
     ]
    }
   ],
   "source": [
    "reco = get_recommendations(pinecone_index=articles_index, search_term=\"obama\", top_k=100)\n",
    "seen = {}\n",
    "\n",
    "for r in reco.matches:\n",
    "    title = r.metadata[\"title\"]\n",
    "    if title not in seen:\n",
    "        print(f\"{r.score}: {title}\")\n",
    "        seen[title] = \".\""
   ]
  }
 ],
 "metadata": {
  "kernelspec": {
   "display_name": "py3_build_app_vec_db_course",
   "language": "python",
   "name": "python3"
  },
  "language_info": {
   "codemirror_mode": {
    "name": "ipython",
    "version": 3
   },
   "file_extension": ".py",
   "mimetype": "text/x-python",
   "name": "python",
   "nbconvert_exporter": "python",
   "pygments_lexer": "ipython3",
   "version": "3.10.14"
  }
 },
 "nbformat": 4,
 "nbformat_minor": 2
}
